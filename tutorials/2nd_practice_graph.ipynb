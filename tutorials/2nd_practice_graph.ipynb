{
 "cells": [
  {
   "metadata": {
    "ExecuteTime": {
     "end_time": "2025-08-16T09:15:35.171415Z",
     "start_time": "2025-08-16T09:15:35.165314Z"
    }
   },
   "cell_type": "code",
   "source": "from typing import TypedDict, Literal",
   "id": "8885b52fb4282bf7",
   "outputs": [],
   "execution_count": 2
  },
  {
   "metadata": {
    "ExecuteTime": {
     "end_time": "2025-08-16T09:15:55.227864Z",
     "start_time": "2025-08-16T09:15:55.222248Z"
    }
   },
   "cell_type": "code",
   "source": [
    "#creating a state\n",
    "class PortfolioState(TypedDict):\n",
    "    amount_usd: float\n",
    "    total_usd: float\n",
    "    target_currency: Literal[\"INR\",\"EUR\"]\n",
    "    total: float"
   ],
   "id": "706b444682a97dc4",
   "outputs": [],
   "execution_count": 3
  },
  {
   "metadata": {
    "ExecuteTime": {
     "end_time": "2025-08-16T09:27:56.953907Z",
     "start_time": "2025-08-16T09:27:56.945282Z"
    }
   },
   "cell_type": "code",
   "source": [
    "#reating functinos for nodes\n",
    "def calc_total(state: PortfolioState)-> PortfolioState:\n",
    "    state[\"total_usd\"] = state[\"amount_usd\"] * 1.08\n",
    "    return state\n",
    "\n",
    "def convert_inr(state: PortfolioState)-> PortfolioState:\n",
    "    state[\"total\"] = state[\"total_usd\"] * 87.65\n",
    "    return state\n",
    "\n",
    "def convert_eur(state: PortfolioState)-> PortfolioState:\n",
    "    state[\"total\"] = state[\"total_usd\"] * 0.85\n",
    "    return state\n",
    "\n",
    "def choose_conversion(state: PortfolioState)-> PortfolioState:\n",
    "    return state[\"target_currency\"]"
   ],
   "id": "3f898b48ce9e03fb",
   "outputs": [],
   "execution_count": 4
  },
  {
   "metadata": {
    "ExecuteTime": {
     "end_time": "2025-08-16T09:40:27.164019Z",
     "start_time": "2025-08-16T09:40:27.147312Z"
    }
   },
   "cell_type": "code",
   "source": [
    "from langgraph.graph import StateGraph, START, END\n",
    "\n",
    "builder = StateGraph(PortfolioState)\n",
    "\n",
    "builder.add_node(\"calc_total_node\", calc_total)\n",
    "builder.add_node(\"convert_inr_node\", convert_inr)\n",
    "builder.add_node(\"convert_eur_node\", convert_eur)\n",
    "\n",
    "#creatintg edges\n",
    "builder.add_edge(START, \"calc_total_node\")\n",
    "builder.add_conditional_edges(\n",
    "    \"calc_total_node\",\n",
    "    choose_conversion,\n",
    "    {\n",
    "        \"INR\" : \"convert_inr_node\",\n",
    "        \"EUR\" : \"convert_eur_node\",\n",
    "    }\n",
    ")\n",
    "builder.add_edge([\"convert_inr_node\", \"convert_eur_node\"], END)\n",
    "\n",
    "graph = builder.compile()\n"
   ],
   "id": "20089e699ce58334",
   "outputs": [],
   "execution_count": 8
  },
  {
   "metadata": {
    "ExecuteTime": {
     "end_time": "2025-08-16T09:41:51.082996Z",
     "start_time": "2025-08-16T09:41:49.457262Z"
    }
   },
   "cell_type": "code",
   "source": [
    "from IPython.display import Image, display\n",
    "\n",
    "display(Image(graph.get_graph().draw_mermaid_png()))"
   ],
   "id": "d04759ff883b04e8",
   "outputs": [
    {
     "data": {
      "image/png": "[encoded data removed]",
      "text/plain": [
       "<IPython.core.display.Image object>"
      ]
     },
     "metadata": {},
     "output_type": "display_data"
    }
   ],
   "execution_count": 11
  },
  {
   "metadata": {
    "ExecuteTime": {
     "end_time": "2025-08-16T09:42:57.463283Z",
     "start_time": "2025-08-16T09:42:57.417312Z"
    }
   },
   "cell_type": "code",
   "source": "graph.invoke({\"amount_usd\":1000, \"target_currency\":\"INR\"})",
   "id": "5e91252ddb3029f8",
   "outputs": [
    {
     "data": {
      "text/plain": [
       "{'amount_usd': 1000,\n",
       " 'total_usd': 1080.0,\n",
       " 'target_currency': 'INR',\n",
       " 'total': 94662.0}"
      ]
     },
     "execution_count": 12,
     "metadata": {},
     "output_type": "execute_result"
    }
   ],
   "execution_count": 12
  },
  {
   "metadata": {
    "ExecuteTime": {
     "end_time": "2025-08-16T09:44:03.917173Z",
     "start_time": "2025-08-16T09:44:03.871882Z"
    }
   },
   "cell_type": "code",
   "source": "graph.invoke({\"amount_usd\":1000,\"target_currency\":\"EUR\"})",
   "id": "a6cf8088cb0949aa",
   "outputs": [
    {
     "data": {
      "text/plain": [
       "{'amount_usd': 1000,\n",
       " 'total_usd': 1080.0,\n",
       " 'target_currency': 'EUR',\n",
       " 'total': 918.0}"
      ]
     },
     "execution_count": 13,
     "metadata": {},
     "output_type": "execute_result"
    }
   ],
   "execution_count": 13
  },
  {
   "metadata": {
    "ExecuteTime": {
     "end_time": "2025-08-18T16:54:04.194459Z",
     "start_time": "2025-08-18T16:54:04.182901Z"
    }
   },
   "cell_type": "code",
   "source": "print(\"all righttt\")",
   "id": "f82b695ac3c30c23",
   "outputs": [
    {
     "name": "stdout",
     "output_type": "stream",
     "text": [
      "all righttt\n"
     ]
    }
   ],
   "execution_count": 1
  }
 ],
 "metadata": {
  "kernelspec": {
   "display_name": "Python 3",
   "language": "python",
   "name": "python3"
  },
  "language_info": {
   "codemirror_mode": {
    "name": "ipython",
    "version": 2
   },
   "file_extension": ".py",
   "mimetype": "text/x-python",
   "name": "python",
   "nbconvert_exporter": "python",
   "pygments_lexer": "ipython2",
   "version": "2.7.6"
  }
 },
 "nbformat": 4,
 "nbformat_minor": 5
}
