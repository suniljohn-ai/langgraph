{
 "cells": [
  {
   "metadata": {
    "ExecuteTime": {
     "end_time": "2025-08-18T13:55:11.750380Z",
     "start_time": "2025-08-18T13:55:11.672813Z"
    }
   },
   "cell_type": "code",
   "source": [
    "from dotenv import load_dotenv\n",
    "load_dotenv()"
   ],
   "id": "b6777ff1db78078d",
   "outputs": [
    {
     "data": {
      "text/plain": [
       "True"
      ]
     },
     "execution_count": 1,
     "metadata": {},
     "output_type": "execute_result"
    }
   ],
   "execution_count": 1
  },
  {
   "metadata": {
    "ExecuteTime": {
     "end_time": "2025-08-18T15:23:55.977957Z",
     "start_time": "2025-08-18T15:23:55.560762Z"
    }
   },
   "cell_type": "code",
   "source": [
    "from langchain.chat_models import init_chat_model\n",
    "from langchain_core.tools import tool\n",
    "from langgraph.graph import StateGraph, START, END\n",
    "from langgraph.graph.message import add_messages\n",
    "from langgraph.prebuilt import ToolNode, tools_condition\n",
    "\n",
    "from typing_extensions import TypedDict\n",
    "from typing import Annotated"
   ],
   "id": "bf57a4a13273df8e",
   "outputs": [],
   "execution_count": 3
  },
  {
   "metadata": {
    "ExecuteTime": {
     "end_time": "2025-08-18T15:37:32.400238Z",
     "start_time": "2025-08-18T15:37:32.388193Z"
    }
   },
   "cell_type": "code",
   "source": [
    "class State(TypedDict):\n",
    "    # messages have the type of \"list\". The 'add_messages' function\n",
    "    # in the annotation defines how this state key should be updated\n",
    "    # (in this case, it appends messages to the list, rather than overwriting them)\n",
    "    messages: Annotated[list, add_messages]"
   ],
   "id": "1495c9614adbea16",
   "outputs": [],
   "execution_count": 6
  },
  {
   "metadata": {
    "ExecuteTime": {
     "end_time": "2025-08-18T15:26:31.408255Z",
     "start_time": "2025-08-18T15:26:07.771097Z"
    }
   },
   "cell_type": "code",
   "source": [
    "@tool\n",
    "def get_stock_price(symbol: str) -> float:\n",
    "    ''' Retrun the current price of a stock given the stock symbol\n",
    "    :param symbol: stock symbol\n",
    "    :return: current price of the stock\n",
    "    '''\n",
    "\n",
    "    return {\n",
    "        'MARUTI': 14090.00,\n",
    "        'HEROMOTOCO': 4990.00,\n",
    "        'NESTLEIND': 1146.40,\n",
    "        'BAJFINANCE': 905.05,\n",
    "        'BAJAJ-AUTO': 8592.00\n",
    "    }.get(symbol, 0.0)\n",
    "\n",
    "tools = [get_stock_price]\n",
    "\n",
    "llm = init_chat_model(\"google_genai:gemini-2.0-flash\")\n",
    "llm_with_tools = llm.bind_tools(tools)\n"
   ],
   "id": "3c913b945aa20a20",
   "outputs": [],
   "execution_count": 4
  },
  {
   "metadata": {
    "ExecuteTime": {
     "end_time": "2025-08-18T15:38:28.275094Z",
     "start_time": "2025-08-18T15:38:28.242832Z"
    }
   },
   "cell_type": "code",
   "source": [
    "def chatbot_agent(state: State):\n",
    "    return {\"messages\": [llm_with_tools.invoke(state['messages'])]}\n",
    "\n",
    "builder = StateGraph(State)\n",
    "\n",
    "builder.add_node(\"chatbot_agent_node\", chatbot_agent)\n",
    "builder.add_node(\"tools\", ToolNode(tools))\n",
    "\n",
    "builder.add_edge(START, \"chatbot_agent_node\")\n",
    "builder.add_conditional_edges(\"chatbot_agent_node\", tools_condition)\n",
    "\n",
    "graph = builder.compile()"
   ],
   "id": "9183b817b04995a4",
   "outputs": [],
   "execution_count": 10
  },
  {
   "metadata": {
    "ExecuteTime": {
     "end_time": "2025-08-18T15:40:51.515971Z",
     "start_time": "2025-08-18T15:40:50.238919Z"
    }
   },
   "cell_type": "code",
   "source": [
    "from IPython.display import display, Image\n",
    "\n",
    "display(Image(graph.get_graph().draw_mermaid_png()))"
   ],
   "id": "a22f2d72f1872efa",
   "outputs": [
    {
     "data": {
      "image/png": "[encoded data removed]",
      "text/plain": [
       "<IPython.core.display.Image object>"
      ]
     },
     "metadata": {},
     "output_type": "display_data"
    }
   ],
   "execution_count": 12
  },
  {
   "metadata": {
    "ExecuteTime": {
     "end_time": "2025-08-18T15:46:36.035388Z",
     "start_time": "2025-08-18T15:46:33.461309Z"
    }
   },
   "cell_type": "code",
   "source": [
    "msg = \"what is the price MARUTI stock right now ?\"\n",
    "\n",
    "state = graph.invoke({\"messages\":[{\"role\":\"user\",\"content\":msg}]})\n",
    "print(state[\"messages\"][-1].content)"
   ],
   "id": "62375485af3e748",
   "outputs": [
    {
     "name": "stdout",
     "output_type": "stream",
     "text": [
      "14090.0\n"
     ]
    }
   ],
   "execution_count": 14
  },
  {
   "metadata": {
    "ExecuteTime": {
     "end_time": "2025-08-18T15:55:20.256891Z",
     "start_time": "2025-08-18T15:55:19.184686Z"
    }
   },
   "cell_type": "code",
   "source": [
    "msg1 = \"what is the price HEROMOTOCO stock right now ?\"\n",
    "\n",
    "state = graph.invoke({\"messages\":[{\"role\":\"user\",\"content\":msg1}]})\n",
    "print(state[\"messages\"][-1].content)"
   ],
   "id": "af42fe1ada4e29a0",
   "outputs": [
    {
     "name": "stdout",
     "output_type": "stream",
     "text": [
      "4990.0\n"
     ]
    }
   ],
   "execution_count": 15
  },
  {
   "metadata": {
    "ExecuteTime": {
     "end_time": "2025-08-18T16:06:03.983615Z",
     "start_time": "2025-08-18T16:06:01.663622Z"
    }
   },
   "cell_type": "code",
   "source": [
    "msg2 = \"I want to buy 20 MARUTI stocks using current price. Then 15 HEROMOTOCO. What will be the total cost?\"\n",
    "\n",
    "state = graph.invoke({\"messages\":[{\"role\":\"user\",\"content\":msg2}]})\n",
    "print(state[\"messages\"][-1].content)"
   ],
   "id": "9dcc37fc43946569",
   "outputs": [
    {
     "name": "stdout",
     "output_type": "stream",
     "text": [
      "4990.0\n"
     ]
    }
   ],
   "execution_count": 16
  },
  {
   "metadata": {
    "ExecuteTime": {
     "end_time": "2025-08-18T16:52:43.514658Z",
     "start_time": "2025-08-18T16:52:43.414079Z"
    }
   },
   "cell_type": "code",
   "source": "print(\"done but the reasoning can't performed by agentbot\")",
   "id": "dc6fce13e7e69882",
   "outputs": [
    {
     "name": "stdout",
     "output_type": "stream",
     "text": [
      "done but the reasoning can't performed by agentbot\n"
     ]
    }
   ],
   "execution_count": 17
  }
 ],
 "metadata": {
  "kernelspec": {
   "display_name": "Python 3",
   "language": "python",
   "name": "python3"
  },
  "language_info": {
   "codemirror_mode": {
    "name": "ipython",
    "version": 2
   },
   "file_extension": ".py",
   "mimetype": "text/x-python",
   "name": "python",
   "nbconvert_exporter": "python",
   "pygments_lexer": "ipython2",
   "version": "2.7.6"
  }
 },
 "nbformat": 4,
 "nbformat_minor": 5
}
