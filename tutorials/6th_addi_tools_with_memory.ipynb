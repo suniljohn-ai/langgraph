{
 "cells": [
  {
   "metadata": {},
   "cell_type": "markdown",
   "source": "",
   "id": "6c7cb2bb1faa0c3c"
  },
  {
   "metadata": {
    "ExecuteTime": {
     "end_time": "2025-08-18T17:17:34.461271Z",
     "start_time": "2025-08-18T17:17:34.402333Z"
    }
   },
   "cell_type": "code",
   "source": [
    "from dotenv import load_dotenv\n",
    "load_dotenv()"
   ],
   "id": "d9295e12471f8aa1",
   "outputs": [
    {
     "data": {
      "text/plain": [
       "True"
      ]
     },
     "execution_count": 1,
     "metadata": {},
     "output_type": "execute_result"
    }
   ],
   "execution_count": 1
  },
  {
   "metadata": {
    "ExecuteTime": {
     "end_time": "2025-08-18T17:32:54.823256Z",
     "start_time": "2025-08-18T17:32:51.069861Z"
    }
   },
   "cell_type": "code",
   "source": [
    "from typing_extensions import TypedDict\n",
    "from typing import Annotated\n",
    "\n",
    "from langchain_community.tools import tool\n",
    "from langchain.chat_models import init_chat_model\n",
    "\n",
    "from langgraph.graph import StateGraph, START, END\n",
    "from langgraph.graph.message import add_messages\n",
    "from langgraph.prebuilt import tools_condition, ToolNode\n",
    "from langgraph.checkpoint.memory import MemorySaver"
   ],
   "id": "efd853c68c24112a",
   "outputs": [],
   "execution_count": 2
  },
  {
   "metadata": {
    "ExecuteTime": {
     "end_time": "2025-08-18T17:33:17.335478Z",
     "start_time": "2025-08-18T17:33:17.329214Z"
    }
   },
   "cell_type": "code",
   "source": "memory = MemorySaver()",
   "id": "19f609d27b391bed",
   "outputs": [],
   "execution_count": 3
  },
  {
   "metadata": {
    "ExecuteTime": {
     "end_time": "2025-08-18T17:33:30.106433Z",
     "start_time": "2025-08-18T17:33:30.092185Z"
    }
   },
   "cell_type": "code",
   "source": [
    "class State(TypedDict):\n",
    "    # Messages have the type \"list\". The `add_messages` function\n",
    "    # in the annotation defines how this state key should be updated\n",
    "    # (in this case, it appends messages to the list, rather than overwriting them)\n",
    "    messages: Annotated[list, add_messages]"
   ],
   "id": "266fc512a541bd0f",
   "outputs": [],
   "execution_count": 4
  },
  {
   "metadata": {
    "ExecuteTime": {
     "end_time": "2025-08-18T17:35:49.200242Z",
     "start_time": "2025-08-18T17:35:43.329542Z"
    }
   },
   "cell_type": "code",
   "source": [
    "@tool\n",
    "def get_stock_price(symbol: str) -> float:\n",
    "    '''Return the current price of a stock given the stock symbol\n",
    "    :param symbol: stock symbol\n",
    "    :return: current price of the stock\n",
    "    '''\n",
    "    return {\n",
    "        'MARUTI': 14090.00,\n",
    "        'HEROMOTOCO': 4990.00,\n",
    "        'NESTLEIND': 1146.40,\n",
    "        'BAJFINANCE': 905.05,\n",
    "        'BAJAJ-AUTO': 8592.00\n",
    "    }.get(symbol,0.0)\n",
    "\n",
    "tools = [get_stock_price]\n",
    "\n",
    "llm = init_chat_model(\"google_genai:gemini-2.0-flash\")\n",
    "llm_with_tools = llm.bind_tools(tools)"
   ],
   "id": "f32c56cf73ac8276",
   "outputs": [],
   "execution_count": 5
  },
  {
   "metadata": {
    "ExecuteTime": {
     "end_time": "2025-08-18T17:42:41.087277Z",
     "start_time": "2025-08-18T17:42:40.533692Z"
    }
   },
   "cell_type": "code",
   "source": [
    "def chatbot_agent(state: State):\n",
    "    return {\"messages\":[llm_with_tools.invoke(state[\"messages\"])]}\n",
    "\n",
    "builder = StateGraph(State)\n",
    "\n",
    "builder.add_node(\"chatbot_agent_node\",chatbot_agent)\n",
    "builder.add_node(\"tools\", ToolNode(tools))\n",
    "\n",
    "builder.add_edge(START, \"chatbot_agent_node\")\n",
    "builder.add_conditional_edges(\"chatbot_agent_node\", tools_condition)\n",
    "builder.add_edge(\"tools\",\"chatbot_agent_node\")\n",
    "\n",
    "graph = builder.compile(checkpointer = memory)\n",
    "\n",
    "from IPython.display import display,Image\n",
    "\n",
    "display(Image(graph.get_graph().draw_mermaid_png()))"
   ],
   "id": "53be67817c533379",
   "outputs": [
    {
     "data": {
      "image/png": "[encoded data removed]",
      "text/plain": [
       "<IPython.core.display.Image object>"
      ]
     },
     "metadata": {},
     "output_type": "display_data"
    }
   ],
   "execution_count": 8
  },
  {
   "metadata": {
    "ExecuteTime": {
     "end_time": "2025-08-18T17:46:54.737324Z",
     "start_time": "2025-08-18T17:46:50.510983Z"
    }
   },
   "cell_type": "code",
   "source": [
    "config = {\"configurable\":{\"thread_id\":\"1\"}}\n",
    "\n",
    "msg = \"I want to buy 20 MARUTI stocks using current price. Then 15 HEROMOTOCO. What will be the total cost?\"\n",
    "\n",
    "state = graph.invoke({\"messages\":[{\"role\":\"user\",\"content\":msg}]}, config = config )\n",
    "print(state[\"messages\"][-1].content)"
   ],
   "id": "8f41034619e32d12",
   "outputs": [
    {
     "name": "stdout",
     "output_type": "stream",
     "text": [
      "Okay, I have the stock prices.\n",
      "\n",
      "*   MARUTI: 14090\n",
      "*   HEROMOTOCO: 4990\n",
      "\n",
      "The total cost will be (20 \\* 14090) + (15 \\* 4990) = 281800 + 74850 = 356650\n",
      "\n",
      "Therefore, the total cost for 20 MARUTI stocks and 15 HEROMOTOCO stocks would be 356650.\n"
     ]
    }
   ],
   "execution_count": 10
  },
  {
   "metadata": {
    "ExecuteTime": {
     "end_time": "2025-08-18T17:50:37.348446Z",
     "start_time": "2025-08-18T17:50:35.241733Z"
    }
   },
   "cell_type": "code",
   "source": [
    "msg1 = \"tell me the current price of 5 NESTLEIND stocks\"\n",
    "\n",
    "config1 = {\"configurable\":{\"thread_id\":2}}\n",
    "\n",
    "state = graph.invoke({\"messages\":{\"role\":\"user\",\"content\":msg1}}, config = config1)\n",
    "print(state[\"messages\"][-1].content)"
   ],
   "id": "39926a8caa898603",
   "outputs": [
    {
     "name": "stdout",
     "output_type": "stream",
     "text": [
      "The current price of one NESTLEIND stock is 1146.4. Therefore, the current price of 5 NESTLEIND stocks is 5 * 1146.4 = 5732.\n"
     ]
    }
   ],
   "execution_count": 11
  },
  {
   "metadata": {
    "ExecuteTime": {
     "end_time": "2025-08-18T17:51:42.518541Z",
     "start_time": "2025-08-18T17:51:40.135771Z"
    }
   },
   "cell_type": "code",
   "source": [
    "msg = \"Using the current price tell me the total price of 10 BAJFINANCE stocks and add it to previous total cost\"\n",
    "\n",
    "state = graph.invoke({\"messages\": [{\"role\": \"user\", \"content\": msg}]}, config=config1)\n",
    "print(state[\"messages\"][-1].content)"
   ],
   "id": "da0f28ecc2ecc93b",
   "outputs": [
    {
     "name": "stdout",
     "output_type": "stream",
     "text": [
      "The current price of one BAJFINANCE stock is 905.05. Therefore, the current price of 10 BAJFINANCE stocks is 10 * 905.05 = 9050.5.\n",
      "The previous total cost was 5732. Adding the current price of 10 BAJFINANCE stocks, the new total cost is 5732 + 9050.5 = 14782.5.\n"
     ]
    }
   ],
   "execution_count": 12
  },
  {
   "metadata": {
    "ExecuteTime": {
     "end_time": "2025-08-18T17:52:08.959401Z",
     "start_time": "2025-08-18T17:52:06.813654Z"
    }
   },
   "cell_type": "code",
   "source": [
    "msg = \"Using the current price tell me the total price of 10 BAJFINANCE stocks and add it to previous total cost\"\n",
    "\n",
    "state = graph.invoke({\"messages\": [{\"role\": \"user\", \"content\": msg}]}, config=config)\n",
    "print(state[\"messages\"][-1].content)"
   ],
   "id": "b27e82260a1e1842",
   "outputs": [
    {
     "name": "stdout",
     "output_type": "stream",
     "text": [
      "The current price of BAJFINANCE is 905.05.\n",
      "\n",
      "The cost of 10 BAJFINANCE stocks is 10 * 905.05 = 9050.5\n",
      "\n",
      "Adding this to the previous total cost of 356650, the new total cost is 356650 + 9050.5 = 365700.5\n"
     ]
    }
   ],
   "execution_count": 13
  },
  {
   "metadata": {
    "ExecuteTime": {
     "end_time": "2025-08-18T17:53:17.983563Z",
     "start_time": "2025-08-18T17:53:15.553265Z"
    }
   },
   "cell_type": "code",
   "source": [
    "msg = \"Tell me the current price of 5 BAJAJ-AUTO stocks and add it to previous total\"\n",
    "\n",
    "state = graph.invoke({\"messages\": [{\"role\": \"user\", \"content\": msg}]}, config=config1)\n",
    "print(state[\"messages\"][-1].content)"
   ],
   "id": "daadbb1a059351c6",
   "outputs": [
    {
     "name": "stdout",
     "output_type": "stream",
     "text": [
      "The current price of one BAJAJ-AUTO stock is 8592. Therefore, the current price of 5 BAJAJ-AUTO stocks is 5 * 8592 = 42960.\n",
      "The previous total was 14782.5. Adding the current price of 5 BAJAJ-AUTO stocks, the new total is 14782.5 + 42960 = 57742.5.\n"
     ]
    }
   ],
   "execution_count": 14
  },
  {
   "metadata": {
    "ExecuteTime": {
     "end_time": "2025-08-18T17:55:12.726673Z",
     "start_time": "2025-08-18T17:55:11.061817Z"
    }
   },
   "cell_type": "code",
   "source": [
    "msg = \"remove the previous 10 BAJFINANCE price and tell me\"\n",
    "\n",
    "state = graph.invoke({\"messages\": [{\"role\": \"user\", \"content\": msg}]}, config=config1)\n",
    "print(state[\"messages\"][-1].content)"
   ],
   "id": "f4f32e3660b76867",
   "outputs": [
    {
     "name": "stdout",
     "output_type": "stream",
     "text": [
      "Okay, the previous total was 57742.5, which included the price of 5 NESTLEIND stocks and 5 BAJAJ-AUTO stocks and 10 BAJFINANCE stocks. The price of 10 BAJFINANCE stocks was 9050.5. Removing this from the current total, the new total is 57742.5 - 9050.5 = 48692.\n"
     ]
    }
   ],
   "execution_count": 15
  },
  {
   "metadata": {
    "ExecuteTime": {
     "end_time": "2025-08-18T17:55:55.100923Z",
     "start_time": "2025-08-18T17:55:55.093878Z"
    }
   },
   "cell_type": "code",
   "source": "print(\"you nailed man\")",
   "id": "1af56bd11e0d4e79",
   "outputs": [
    {
     "name": "stdout",
     "output_type": "stream",
     "text": [
      "you nailed man\n"
     ]
    }
   ],
   "execution_count": 16
  }
 ],
 "metadata": {
  "kernelspec": {
   "display_name": "Python 3",
   "language": "python",
   "name": "python3"
  },
  "language_info": {
   "codemirror_mode": {
    "name": "ipython",
    "version": 2
   },
   "file_extension": ".py",
   "mimetype": "text/x-python",
   "name": "python",
   "nbconvert_exporter": "python",
   "pygments_lexer": "ipython2",
   "version": "2.7.6"
  }
 },
 "nbformat": 4,
 "nbformat_minor": 5
}
