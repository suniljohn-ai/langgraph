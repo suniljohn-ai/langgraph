{
 "cells": [
  {
   "metadata": {
    "ExecuteTime": {
     "end_time": "2025-08-18T12:14:03.057480Z",
     "start_time": "2025-08-18T12:14:03.040443Z"
    }
   },
   "cell_type": "code",
   "source": [
    "from dotenv import load_dotenv\n",
    "\n",
    "load_dotenv()"
   ],
   "id": "483ef462f3ff662e",
   "outputs": [
    {
     "data": {
      "text/plain": [
       "True"
      ]
     },
     "execution_count": 3,
     "metadata": {},
     "output_type": "execute_result"
    }
   ],
   "execution_count": 3
  },
  {
   "metadata": {
    "ExecuteTime": {
     "end_time": "2025-08-18T12:15:09.883818Z",
     "start_time": "2025-08-18T12:15:09.878122Z"
    }
   },
   "cell_type": "code",
   "source": "from langchain.chat_models import init_chat_model",
   "id": "e272e541c1770486",
   "outputs": [],
   "execution_count": 5
  },
  {
   "metadata": {
    "ExecuteTime": {
     "end_time": "2025-08-18T12:16:16.339148Z",
     "start_time": "2025-08-18T12:15:49.011320Z"
    }
   },
   "cell_type": "code",
   "source": "llm = init_chat_model(\"google_genai:gemini-2.0-flash\")",
   "id": "d2ce1bc4f8225aa5",
   "outputs": [],
   "execution_count": 6
  },
  {
   "metadata": {
    "ExecuteTime": {
     "end_time": "2025-08-18T12:18:14.880023Z",
     "start_time": "2025-08-18T12:18:12.075750Z"
    }
   },
   "cell_type": "code",
   "source": "llm.invoke(\"who is the first human stepped into space\")",
   "id": "a6dc5775ca721fc6",
   "outputs": [
    {
     "data": {
      "text/plain": [
       "AIMessage(content='The first human in space was **Yuri Gagarin**, a Soviet cosmonaut. He made his historic flight on **April 12, 1961**, aboard the Vostok 1 spacecraft.', additional_kwargs={}, response_metadata={'prompt_feedback': {'block_reason': 0, 'safety_ratings': []}, 'finish_reason': 'STOP', 'model_name': 'gemini-2.0-flash', 'safety_ratings': []}, id='run--4abeaaba-e938-43fa-b202-2591210ff457-0', usage_metadata={'input_tokens': 8, 'output_tokens': 44, 'total_tokens': 52, 'input_token_details': {'cache_read': 0}})"
      ]
     },
     "execution_count": 7,
     "metadata": {},
     "output_type": "execute_result"
    }
   ],
   "execution_count": 7
  },
  {
   "metadata": {
    "ExecuteTime": {
     "end_time": "2025-08-18T12:34:10.154177Z",
     "start_time": "2025-08-18T12:34:10.148396Z"
    }
   },
   "cell_type": "code",
   "source": [
    "from langchain.chat_models import init_chat_model\n",
    "from typing import TypedDict\n",
    "from langgraph.graph import StateGraph, START,END\n",
    "from typing import Annotated\n",
    "from langgraph.graph.message import add_messages #the reducer function\n"
   ],
   "id": "eb4b9c547d7dcf09",
   "outputs": [],
   "execution_count": 15
  },
  {
   "metadata": {
    "ExecuteTime": {
     "end_time": "2025-08-18T12:34:05.882073Z",
     "start_time": "2025-08-18T12:34:05.870404Z"
    }
   },
   "cell_type": "code",
   "source": [
    "class State(TypedDict):\n",
    "    messages: Annotated[list, add_messages]\n",
    "\n",
    "def chatbot(state: State) -> State:\n",
    "    return {\"messages\":[llm.invoke(state[\"messages\"])]}\n",
    "\n",
    "builder = StateGraph(State)\n",
    "#adding nodes to graph\n",
    "builder.add_node(\"chatbot_node\", chatbot)\n",
    "\n",
    "#add edges between nodes to graph\n",
    "builder.add_edge(START, \"chatbot_node\")\n",
    "builder.add_edge(\"chatbot_node\",END)\n",
    "\n",
    "graph = builder.compile()"
   ],
   "id": "bd911f7e12e4c354",
   "outputs": [],
   "execution_count": 14
  },
  {
   "metadata": {
    "ExecuteTime": {
     "end_time": "2025-08-18T12:34:21.681603Z",
     "start_time": "2025-08-18T12:34:20.857497Z"
    }
   },
   "cell_type": "code",
   "source": [
    "message = {\"role\": \"user\", \"content\": \"who was the first stepped into the space ?, print onoy the name\"}\n",
    "\n",
    "response = graph.invoke({\"messages\":[message]})\n",
    "response"
   ],
   "id": "d28e8d0598c3c449",
   "outputs": [
    {
     "data": {
      "text/plain": [
       "{'messages': [HumanMessage(content='who was the first stepped into the space ?, print onoy the name', additional_kwargs={}, response_metadata={}, id='6cccbf1e-cce3-4538-832c-9b68dd38e206'),\n",
       "  AIMessage(content='Yuri Gagarin', additional_kwargs={}, response_metadata={'prompt_feedback': {'block_reason': 0, 'safety_ratings': []}, 'finish_reason': 'STOP', 'model_name': 'gemini-2.0-flash', 'safety_ratings': []}, id='run--81176433-6213-44ab-9ccf-08174e089f3a-0', usage_metadata={'input_tokens': 14, 'output_tokens': 4, 'total_tokens': 18, 'input_token_details': {'cache_read': 0}})]}"
      ]
     },
     "execution_count": 16,
     "metadata": {},
     "output_type": "execute_result"
    }
   ],
   "execution_count": 16
  },
  {
   "metadata": {
    "ExecuteTime": {
     "end_time": "2025-08-18T12:49:29.080305Z",
     "start_time": "2025-08-18T12:48:18.907504Z"
    }
   },
   "cell_type": "code",
   "source": [
    "#asking continues quesions\n",
    "state = None\n",
    "while True:\n",
    "    in_message = input(\"You: \")\n",
    "    if in_message.lower() in {\"quit\",\"exit\"}:\n",
    "        break\n",
    "    if state is None:\n",
    "        state: State = {\n",
    "            \"messages\": [{\"role\":\"user\",\"content\":in_message}]\n",
    "        }\n",
    "    else:\n",
    "        state[\"messages\"].append({\"role\":\"user\",\"content\":in_message})\n",
    "\n",
    "    state = graph.invoke(state)\n",
    "    print(\"Bot:\", state[\"messages\"][-1].content)"
   ],
   "id": "c2c558dc18a270ba",
   "outputs": [
    {
     "name": "stdout",
     "output_type": "stream",
     "text": [
      "Bot: Yuri Gagarin was the first human in space. He made his historic flight on April 12, 1961, aboard the Vostok 1 spacecraft.\n",
      "Bot: Laika, a Soviet dog, was the first animal to orbit the Earth. She was launched into space on Sputnik 2 on November 3, 1957. Unfortunately, technology at the time did not allow for a safe return, and she died in orbit.\n",
      "Bot: Neil Armstrong was the first human to walk on the Moon. He stepped onto the lunar surface on July 20, 1969, during the Apollo 11 mission.\n",
      "Bot: I am an AI and do not have access to real-time information, including live stock prices. Stock prices change constantly.\n",
      "\n",
      "To get the current stock price of Apple (AAPL), you can check these sources:\n",
      "\n",
      "*   **Google Finance:** Search \"AAPL stock price\" on Google.\n",
      "*   **Yahoo Finance:** Go to finance.yahoo.com and search for \"AAPL\".\n",
      "*   **Your Brokerage Account:** If you have a brokerage account, you can find the price there.\n",
      "\n",
      "Remember that stock prices are dynamic and can change very quickly.\n"
     ]
    }
   ],
   "execution_count": 19
  },
  {
   "metadata": {
    "ExecuteTime": {
     "end_time": "2025-08-18T16:52:59.318157Z",
     "start_time": "2025-08-18T16:52:59.201618Z"
    }
   },
   "cell_type": "code",
   "source": "print(\"awsome\")",
   "id": "1faadba77aa21dab",
   "outputs": [
    {
     "name": "stdout",
     "output_type": "stream",
     "text": [
      "awsome\n"
     ]
    }
   ],
   "execution_count": 20
  }
 ],
 "metadata": {
  "kernelspec": {
   "display_name": "Python 3",
   "language": "python",
   "name": "python3"
  },
  "language_info": {
   "codemirror_mode": {
    "name": "ipython",
    "version": 2
   },
   "file_extension": ".py",
   "mimetype": "text/x-python",
   "name": "python",
   "nbconvert_exporter": "python",
   "pygments_lexer": "ipython2",
   "version": "2.7.6"
  }
 },
 "nbformat": 4,
 "nbformat_minor": 5
}
